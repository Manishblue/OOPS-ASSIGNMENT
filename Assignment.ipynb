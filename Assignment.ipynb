{
 "cells": [
  {
   "cell_type": "code",
   "execution_count": 1,
   "id": "139b3488-074e-4292-a104-fc865df35ca4",
   "metadata": {},
   "outputs": [
    {
     "data": {
      "text/plain": [
       "'Q1. Explain Class and Object with respect to Object-Oriented Programming. Give a suitable example.'"
      ]
     },
     "execution_count": 1,
     "metadata": {},
     "output_type": "execute_result"
    }
   ],
   "source": [
    "\"\"\"Q1. Explain Class and Object with respect to Object-Oriented Programming. Give a suitable example.\"\"\""
   ]
  },
  {
   "cell_type": "code",
   "execution_count": 2,
   "id": "67b64fd2-1f8b-4ef8-8ca5-0cc83a4c7407",
   "metadata": {},
   "outputs": [
    {
     "data": {
      "text/plain": [
       "'In Object-Oriented Programming (OOP), a class is a blueprint or a template for creating objects. It defines a data structure along with methods that operate on that data. An object, on the other hand, is an instance of a class – a concrete realization of the class blueprint.'"
      ]
     },
     "execution_count": 2,
     "metadata": {},
     "output_type": "execute_result"
    }
   ],
   "source": [
    "\"\"\"In Object-Oriented Programming (OOP), a class is a blueprint or a template for creating objects. It defines a data structure along with methods that operate on that data. An object, on the other hand, is an instance of a class – a concrete realization of the class blueprint.\"\"\""
   ]
  },
  {
   "cell_type": "code",
   "execution_count": 14,
   "id": "4b735db8-5e00-4f0d-8a81-05d22e267eed",
   "metadata": {},
   "outputs": [
    {
     "name": "stdout",
     "output_type": "stream",
     "text": [
      "20200 toyoto canaary\n",
      "automobile\n"
     ]
    }
   ],
   "source": [
    "class car:#class define\n",
    "    category=\"automobile\"#class attribute\n",
    "    \n",
    "    def __init__ (self,model,make,year):#constructor take input\n",
    "                 self.make=make\n",
    "                 self.model=model\n",
    "                 self.year=year\n",
    "                 self.is_engine_running=False\n",
    "    def start_engine(self):# method\n",
    "        self.is_engine_running = True\n",
    "        print(self.year,self.make,self.model)\n",
    "    def stop_engine(self):\n",
    "                 self.is_engine_running = False\n",
    "                 print(self.year,self.model,self.make)\n",
    "my_car =car(make=\"toyoto\",model=\"canaary\",year=20200)#object creation\n",
    "print(my_car.year,my_car.make,my_car.model)\n",
    "print(my_car.category)\n",
    "                 \n",
    "                 \n",
    "                 "
   ]
  },
  {
   "cell_type": "code",
   "execution_count": 16,
   "id": "69452f8e-a0a6-4fb2-8397-b8450c269ea2",
   "metadata": {},
   "outputs": [
    {
     "name": "stdout",
     "output_type": "stream",
     "text": [
      "20200 toyoto canaary\n",
      "20200 canaary toyoto\n"
     ]
    }
   ],
   "source": [
    "my_car.start_engine()\n",
    "my_car.stop_engine()\n"
   ]
  },
  {
   "cell_type": "code",
   "execution_count": 17,
   "id": "9d5dda02-5402-4646-8c49-d64ad8477df6",
   "metadata": {},
   "outputs": [
    {
     "data": {
      "text/plain": [
       "'Q2. Name the four pillars of OOPs'"
      ]
     },
     "execution_count": 17,
     "metadata": {},
     "output_type": "execute_result"
    }
   ],
   "source": [
    "\"\"\"Q2. Name the four pillars of OOPs\"\"\""
   ]
  },
  {
   "cell_type": "code",
   "execution_count": 18,
   "id": "90bcebff-d004-4913-9e4d-0629a36b1100",
   "metadata": {},
   "outputs": [],
   "source": [
    "# The four pillars of Object-Oriented Programming (OOP) are:\n",
    "\n",
    "# Encapsulation:\n",
    "\n",
    "# Encapsulation is the bundling of data (attributes) and methods that operate on that data into a single unit called a class.\n",
    "# It hides the internal details of how an object works and exposes only what is necessary.\n",
    "# Inheritance:\n",
    "\n",
    "# Inheritance allows a class (subclass or derived class) to inherit properties and behaviors (attributes and methods) from another class (superclass or base class).\n",
    "# It promotes code reusability and establishes a hierarchy between classes.\n",
    "# Polymorphism:\n",
    "\n",
    "# Polymorphism allows objects of different classes to be treated as objects of a common base class.\n",
    "# It enables a single interface to represent different types of objects and allows methods to be implemented in various ways in different classes.\n",
    "# Abstraction:\n",
    "\n",
    "# Abstraction involves simplifying complex systems by modeling classes based on the essential features and ignoring unnecessary details.\n",
    "# It provides a way to provide a clear separation between what something does and how it achieves its functionality.\n",
    "# These four pillars collectively contribute to building flexible, modular, and maintainable code in object-oriented systems.\n",
    "\n",
    "\n",
    "\n",
    "\n",
    "\n"
   ]
  },
  {
   "cell_type": "code",
   "execution_count": 19,
   "id": "d20aed43-7494-4cf2-9890-c508075a2ba3",
   "metadata": {},
   "outputs": [
    {
     "data": {
      "text/plain": [
       "'Q3. Explain why the __init__() function is used. Give a suitable example'"
      ]
     },
     "execution_count": 19,
     "metadata": {},
     "output_type": "execute_result"
    }
   ],
   "source": [
    "\"\"\"Q3. Explain why the __init__() function is used. Give a suitable example\"\"\""
   ]
  },
  {
   "cell_type": "code",
   "execution_count": 20,
   "id": "f0358a2b-a5ac-4765-920e-3672b377ce84",
   "metadata": {},
   "outputs": [
    {
     "data": {
      "text/plain": [
       "'The __init__() function in Python is a special method, also known as a constructor. It is automatically called when an object is created from a class. The primary purpose of the __init__() method is to initialize the attributes of the object. This method is where you define the initial state of the object by assigning values to its attributes.'"
      ]
     },
     "execution_count": 20,
     "metadata": {},
     "output_type": "execute_result"
    }
   ],
   "source": [
    "\"\"\"The __init__() function in Python is a special method, also known as a constructor. It is automatically called when an object is created from a class. The primary purpose of the __init__() method is to initialize the attributes of the object. This method is where you define the initial state of the object by assigning values to its attributes.\"\"\""
   ]
  },
  {
   "cell_type": "code",
   "execution_count": 21,
   "id": "0dc7dc45-72ba-4638-a114-2504708c3d69",
   "metadata": {},
   "outputs": [
    {
     "name": "stdout",
     "output_type": "stream",
     "text": [
      "OM 34\n"
     ]
    }
   ],
   "source": [
    "class person:\n",
    "    # initialize class\n",
    "    def __init__(self,name,age):\n",
    "        #attributes\n",
    "        self.name=name\n",
    "        self.age=age\n",
    "        #method\n",
    "    def introduce(self):\n",
    "        print(self.name,self.age)\n",
    "person1=person(name=\"OM\",age=34)\n",
    "person1.introduce()"
   ]
  },
  {
   "cell_type": "code",
   "execution_count": 1,
   "id": "17e8e45b-cd81-498f-9276-34adbcdee24b",
   "metadata": {},
   "outputs": [
    {
     "data": {
      "text/plain": [
       "'Q4. Why self is used in OOPs?'"
      ]
     },
     "execution_count": 1,
     "metadata": {},
     "output_type": "execute_result"
    }
   ],
   "source": [
    "\"\"\"Q4. Why self is used in OOPs?\"\"\""
   ]
  },
  {
   "cell_type": "code",
   "execution_count": 3,
   "id": "a1868c99-ae06-4881-9e26-ab2a7cec43e1",
   "metadata": {},
   "outputs": [
    {
     "data": {
      "text/plain": [
       "'\\nIn object-oriented programming (OOP), the concept of \"self\" is used to refer to the instance of the class within the class itself. It is a reference to the current object on which a method is being called. The use of \"self\" is essential for maintaining the state \\nand behavior of individual objects.\\n\\nHere are a few reasons why \"self\" is used in OOP:'"
      ]
     },
     "execution_count": 3,
     "metadata": {},
     "output_type": "execute_result"
    }
   ],
   "source": [
    "\"\"\"\n",
    "In object-oriented programming (OOP), the concept of \"self\" is used to refer to the instance of the class within the class itself. It is a reference to the current object on which a method is being called. The use of \"self\" is essential for maintaining the state \n",
    "and behavior of individual objects.\n",
    "\n",
    "Here are a few reasons why \"self\" is used in OOP:\"\"\""
   ]
  },
  {
   "cell_type": "code",
   "execution_count": 4,
   "id": "1cbad9fa-4718-4d7d-a6bd-a5ef551f9145",
   "metadata": {},
   "outputs": [
    {
     "data": {
      "text/plain": [
       "'Accessing Instance Variables: In a class, you often have instance variables that store the state of an object. When defining methods within the class, you need a way to refer to these variables. Using \"self\" allows you to access and manipulate the instance variables of the current object.'"
      ]
     },
     "execution_count": 4,
     "metadata": {},
     "output_type": "execute_result"
    }
   ],
   "source": [
    "\"\"\"Accessing Instance Variables: In a class, you often have instance variables that store the state of an object. When defining methods within the class, you need a way to refer to these variables. Using \"self\" allows you to access and manipulate the instance variables of the current object.\"\"\""
   ]
  },
  {
   "cell_type": "code",
   "execution_count": 5,
   "id": "9d6db056-3943-44f5-bcd2-7174f3df5dcf",
   "metadata": {},
   "outputs": [
    {
     "data": {
      "text/plain": [
       "'Calling Other Methods: Inside a class, you might need to call other methods of the same class. Using \"self\" ensures that the correct instance of the class is used to invoke the method.'"
      ]
     },
     "execution_count": 5,
     "metadata": {},
     "output_type": "execute_result"
    }
   ],
   "source": [
    "\"\"\"Calling Other Methods: Inside a class, you might need to call other methods of the same class. Using \"self\" ensures that the correct instance of the class is used to invoke the method.\"\"\""
   ]
  },
  {
   "cell_type": "code",
   "execution_count": 6,
   "id": "2565e28d-fedd-448d-a87d-84c4bba167d5",
   "metadata": {},
   "outputs": [
    {
     "data": {
      "text/plain": [
       "'Creating and Manipulating Objects: When creating new objects within a class or manipulating existing objects, \"self\" is used to refer to the instance on which the method is invoked.'"
      ]
     },
     "execution_count": 6,
     "metadata": {},
     "output_type": "execute_result"
    }
   ],
   "source": [
    "\"\"\"Creating and Manipulating Objects: When creating new objects within a class or manipulating existing objects, \"self\" is used to refer to the instance on which the method is invoked.\"\"\""
   ]
  },
  {
   "cell_type": "code",
   "execution_count": 9,
   "id": "d09ee130-3bea-4d5c-81e8-df2b4e3c5efa",
   "metadata": {},
   "outputs": [],
   "source": [
    "class Myclass:\n",
    "    def __init__(self,value):\n",
    "        self.value=value\n",
    "    def print_value(self):\n",
    "        print(self.value)"
   ]
  },
  {
   "cell_type": "code",
   "execution_count": 10,
   "id": "839354e8-9181-441b-9afc-b4ca83f2ce27",
   "metadata": {},
   "outputs": [],
   "source": [
    "class MyClass:\n",
    "    def method1(self):\n",
    "        print(\"Method 1\")\n",
    "\n",
    "    def method2(self):\n",
    "        self.method1() "
   ]
  },
  {
   "cell_type": "code",
   "execution_count": 11,
   "id": "b070206e-4619-43eb-8a37-3c7c2d5e79b9",
   "metadata": {},
   "outputs": [],
   "source": [
    "class MyClass:\n",
    "    def create_another_instance(self):\n",
    "        new_instance = MyClass()\n",
    "        # Manipulate the new instance using self\n",
    "        new_instance.some_property = self.some_property"
   ]
  },
  {
   "cell_type": "code",
   "execution_count": 12,
   "id": "056d211e-968f-4dbd-9d79-a2e9ab346695",
   "metadata": {},
   "outputs": [
    {
     "data": {
      "text/plain": [
       "'Q5. What is inheritance? Give an example for each type of inheritance'"
      ]
     },
     "execution_count": 12,
     "metadata": {},
     "output_type": "execute_result"
    }
   ],
   "source": [
    "\"\"\"Q5. What is inheritance? Give an example for each type of inheritance\"\"\""
   ]
  },
  {
   "cell_type": "code",
   "execution_count": 13,
   "id": "babc46e3-8607-4443-bd4d-f05c321500f7",
   "metadata": {},
   "outputs": [
    {
     "data": {
      "text/plain": [
       "\"Inheritance is a fundamental concept in object-oriented programming (OOP) that allows a class (called the subclass or derived class) to inherit the properties and behaviors of another class (called the base class or parent class). Inheritance promotes code reuse and establishes a relationship between classes. There are several types of inheritance, including single inheritance, multiple inheritance, and hierarchical inheritance. Let's explore each type with an example:\""
      ]
     },
     "execution_count": 13,
     "metadata": {},
     "output_type": "execute_result"
    }
   ],
   "source": [
    "\"\"\"Inheritance is a fundamental concept in object-oriented programming (OOP) that allows a class (called the subclass or derived class) to inherit the properties and behaviors of another class (called the base class or parent class). Inheritance promotes code reuse and establishes a relationship between classes. There are several types of inheritance, including single inheritance, multiple inheritance, and hierarchical inheritance. Let's explore each type with an example:\"\"\""
   ]
  },
  {
   "cell_type": "code",
   "execution_count": 14,
   "id": "6ce7f5d1-2930-465a-9fab-01a15d93c388",
   "metadata": {},
   "outputs": [
    {
     "data": {
      "text/plain": [
       "'1. Single Inheritance:\\nIn single inheritance, a class inherits from only one base class. This is the simplest form of inheritance.'"
      ]
     },
     "execution_count": 14,
     "metadata": {},
     "output_type": "execute_result"
    }
   ],
   "source": [
    "\"\"\"1. Single Inheritance:\n",
    "In single inheritance, a class inherits from only one base class. This is the simplest form of inheritance.\"\"\""
   ]
  },
  {
   "cell_type": "code",
   "execution_count": 15,
   "id": "297e472f-f1d7-4a05-b8a8-3ccc82e89887",
   "metadata": {},
   "outputs": [
    {
     "name": "stdout",
     "output_type": "stream",
     "text": [
      "Buddy\n",
      "Woof!\n"
     ]
    }
   ],
   "source": [
    "class Animal:\n",
    "    def __init__(self, name):\n",
    "        self.name = name\n",
    "\n",
    "    def speak(self):\n",
    "        pass  # Placeholder for the speak method\n",
    "\n",
    "class Dog(Animal):\n",
    "    def speak(self):\n",
    "        return \"Woof!\"\n",
    "\n",
    "# Usage\n",
    "dog_instance = Dog(\"Buddy\")\n",
    "print(dog_instance.name)  # Accessing the property from the base class\n",
    "print(dog_instance.speak())  # Overriding the speak method"
   ]
  },
  {
   "cell_type": "code",
   "execution_count": 16,
   "id": "d651b949-471e-4e85-be14-60cbd28c02fe",
   "metadata": {},
   "outputs": [
    {
     "data": {
      "text/plain": [
       "'2. Multiple Inheritance:\\nMultiple inheritance occurs when a class inherits from more than one base class. This allows the derived class to inherit properties and behaviors from multiple sources.'"
      ]
     },
     "execution_count": 16,
     "metadata": {},
     "output_type": "execute_result"
    }
   ],
   "source": [
    "\"\"\"2. Multiple Inheritance:\n",
    "Multiple inheritance occurs when a class inherits from more than one base class. This allows the derived class to inherit properties and behaviors from multiple sources.\"\"\""
   ]
  },
  {
   "cell_type": "code",
   "execution_count": 17,
   "id": "68fbf984-fd2b-4dce-9061-1a48cb167fd3",
   "metadata": {},
   "outputs": [
    {
     "name": "stdout",
     "output_type": "stream",
     "text": [
      "I can fly!\n",
      "I can swim!\n"
     ]
    }
   ],
   "source": [
    "class Flyable:\n",
    "    def fly(self):\n",
    "        return \"I can fly!\"\n",
    "\n",
    "class Swimmable:\n",
    "    def swim(self):\n",
    "        return \"I can swim!\"\n",
    "\n",
    "class FlyingFish(Flyable, Swimmable):\n",
    "    pass\n",
    "\n",
    "# Usage\n",
    "fish_instance = FlyingFish()\n",
    "print(fish_instance.fly())   # Inherited from Flyable\n",
    "print(fish_instance.swim())  # Inherited from Swimmable"
   ]
  },
  {
   "cell_type": "code",
   "execution_count": 18,
   "id": "34bb1937-befd-4383-b962-c7bf6ac2c646",
   "metadata": {},
   "outputs": [
    {
     "data": {
      "text/plain": [
       "'3. Hierarchical Inheritance:\\nHierarchical inheritance involves a single base class that is inherited by multiple derived classes. Each derived class can have its own additional properties and methods.'"
      ]
     },
     "execution_count": 18,
     "metadata": {},
     "output_type": "execute_result"
    }
   ],
   "source": [
    "\"\"\"3. Hierarchical Inheritance:\n",
    "Hierarchical inheritance involves a single base class that is inherited by multiple derived classes. Each derived class can have its own additional properties and methods.\"\"\""
   ]
  },
  {
   "cell_type": "code",
   "execution_count": 19,
   "id": "466ab847-dd50-41fd-91e2-bda29e104d85",
   "metadata": {},
   "outputs": [
    {
     "name": "stdout",
     "output_type": "stream",
     "text": [
      "Drawing a red circle.\n",
      "Drawing a blue square.\n"
     ]
    }
   ],
   "source": [
    "class Shape:\n",
    "    def __init__(self, color):\n",
    "        self.color = color\n",
    "\n",
    "    def draw(self):\n",
    "        pass  # Placeholder for the draw method\n",
    "\n",
    "class Circle(Shape):\n",
    "    def draw(self):\n",
    "        return f\"Drawing a {self.color} circle.\"\n",
    "\n",
    "class Square(Shape):\n",
    "    def draw(self):\n",
    "        return f\"Drawing a {self.color} square.\"\n",
    "\n",
    "# Usage\n",
    "circle_instance = Circle(\"red\")\n",
    "square_instance = Square(\"blue\")\n",
    "\n",
    "print(circle_instance.draw())  # Overriding the draw method in Circle\n",
    "print(square_instance.draw())  # Overriding the draw method in Square"
   ]
  },
  {
   "cell_type": "code",
   "execution_count": null,
   "id": "11930324-e091-4c6e-9caa-713f259f0bb4",
   "metadata": {},
   "outputs": [],
   "source": []
  }
 ],
 "metadata": {
  "kernelspec": {
   "display_name": "Python 3 (ipykernel)",
   "language": "python",
   "name": "python3"
  },
  "language_info": {
   "codemirror_mode": {
    "name": "ipython",
    "version": 3
   },
   "file_extension": ".py",
   "mimetype": "text/x-python",
   "name": "python",
   "nbconvert_exporter": "python",
   "pygments_lexer": "ipython3",
   "version": "3.10.8"
  }
 },
 "nbformat": 4,
 "nbformat_minor": 5
}
